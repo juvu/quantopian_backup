{
 "cells": [
  {
   "cell_type": "code",
   "execution_count": null,
   "metadata": {},
   "outputs": [],
   "source": [
    "# Import Pipeline\n",
    "from quantopian.pipeline import Pipeline\n",
    "from quantopian.research import run_pipeline\n",
    "\n",
    "# Import filter/screen\n",
    "from quantopian.pipeline.filters import QTradableStocksUS\n",
    "\n",
    "# Import data\n",
    "from quantopian.pipeline.data import USEquityPricing\n",
    "from quantopian.pipeline.data.factset import Fundamentals as ff\n",
    "from quantopian.pipeline.data.morningstar import Fundamentals as mf\n",
    "\n",
    "# Import classifier\n",
    "from quantopian.pipeline.classifiers.fundamentals import Sector\n",
    "\n",
    "# Import Alphalens\n",
    "from alphalens.utils import get_clean_factor_and_forward_returns\n",
    "from alphalens.tears import create_full_tear_sheet"
   ]
  },
  {
   "cell_type": "code",
   "execution_count": null,
   "metadata": {},
   "outputs": [],
   "source": [
    "# Constants\n",
    "start_date = '2007-1-1'\n",
    "end_date = '2020-9-17'\n",
    "\n",
    "factor_name = 'fcf_yld'\n",
    "\n",
    "sector_labels, sector_labels[-1] = dict(Sector.SECTOR_NAMES), \"Unknown\"\n",
    "\n",
    "group_neutral = True\n",
    "\n",
    "long_short = True"
   ]
  },
  {
   "cell_type": "code",
   "execution_count": null,
   "metadata": {},
   "outputs": [],
   "source": [
    "# Create pipeline function\n",
    "def make_pipeline():\n",
    "    \n",
    "    # Get our primary data\n",
    "    \n",
    "    sector = Sector()\n",
    "    \n",
    "    fcf = mf.free_cash_flow.latest\n",
    "    ev = mf.enterprise_value.latest\n",
    "    \n",
    "    # Calculate factor\n",
    "    \n",
    "    fcf_yld = fcf / ev\n",
    "    \n",
    "    #Create screens\n",
    "    \n",
    "    factor_screen = fcf_yld.notnull()\n",
    "    \n",
    "    sector_screen = sector.notnull()\n",
    "    \n",
    "    # Return pipeline\n",
    "    \n",
    "    return Pipeline(\n",
    "        columns={\n",
    "            factor_name: fcf_yld,\n",
    "            'sector': sector\n",
    "        },\n",
    "        screen=QTradableStocksUS() & factor_screen & sector_screen,\n",
    "    )"
   ]
  },
  {
   "cell_type": "code",
   "execution_count": null,
   "metadata": {},
   "outputs": [],
   "source": [
    "# Get factor data from pipeline\n",
    "factor_data = run_pipeline(make_pipeline(), start_date, end_date)"
   ]
  },
  {
   "cell_type": "code",
   "execution_count": null,
   "metadata": {},
   "outputs": [],
   "source": [
    "factor_data.head()"
   ]
  },
  {
   "cell_type": "code",
   "execution_count": null,
   "metadata": {},
   "outputs": [],
   "source": [
    "# Get pricing data\n",
    "pricing_data = get_pricing(factor_data.index.levels[1], start_date, end_date, fields='open_price')"
   ]
  },
  {
   "cell_type": "code",
   "execution_count": null,
   "metadata": {},
   "outputs": [],
   "source": [
    "pricing_data.head()"
   ]
  },
  {
   "cell_type": "code",
   "execution_count": null,
   "metadata": {},
   "outputs": [],
   "source": [
    "# Get factor and returns data\n",
    "merged_data = get_clean_factor_and_forward_returns(\n",
    "    factor=factor_data[factor_name],\n",
    "    prices=pricing_data,\n",
    "    periods=(1,5,10),\n",
    "    quantiles=5,\n",
    "    groupby=factor_data['sector'],\n",
    "    groupby_labels = sector_labels,\n",
    "    binning_by_group = group_neutral,\n",
    ")"
   ]
  },
  {
   "cell_type": "code",
   "execution_count": null,
   "metadata": {},
   "outputs": [],
   "source": [
    "merged_data.tail()"
   ]
  },
  {
   "cell_type": "code",
   "execution_count": null,
   "metadata": {},
   "outputs": [],
   "source": [
    "# Create tear-sheet to analyse\n",
    "create_full_tear_sheet(merged_data, long_short=long_short, by_group=True, group_neutral=group_neutral)"
   ]
  }
 ],
 "metadata": {
  "kernelspec": {
   "display_name": "Python 3.5",
   "language": "python",
   "name": "py35"
  },
  "language_info": {
   "codemirror_mode": {
    "name": "ipython",
    "version": 3
   },
   "file_extension": ".py",
   "mimetype": "text/x-python",
   "name": "python",
   "nbconvert_exporter": "python",
   "pygments_lexer": "ipython3",
   "version": "3.5.9"
  }
 },
 "nbformat": 4,
 "nbformat_minor": 2
}
