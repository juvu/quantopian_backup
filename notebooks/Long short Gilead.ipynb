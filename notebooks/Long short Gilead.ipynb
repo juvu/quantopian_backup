{
 "cells": [
  {
   "cell_type": "code",
   "execution_count": null,
   "metadata": {},
   "outputs": [],
   "source": [
    "# Import our libraries\n",
    "\n",
    "# This is for numerical processing\n",
    "import numpy as np\n",
    "# This is the library most commonly used for plotting in Python.\n",
    "# Notice how we import it 'as' plt, this enables us to type plt\n",
    "# rather than the full string every time.\n",
    "import matplotlib.pyplot as plt"
   ]
  },
  {
   "cell_type": "code",
   "execution_count": null,
   "metadata": {},
   "outputs": [],
   "source": [
    "start = '2020-01-19'\n",
    "end = '2020-03-17'\n",
    "data = get_pricing(['GILD', 'VXX','SPY'], fields=  ['open_price','close_price','low','high','price'], start_date=start, end_date=end)\n",
    "\n",
    "print(data['price'] ) \n",
    "data = data['price']"
   ]
  },
  {
   "cell_type": "code",
   "execution_count": null,
   "metadata": {},
   "outputs": [],
   "source": [
    "data.columns  = [e.symbol for e in data.columns]\n"
   ]
  },
  {
   "cell_type": "code",
   "execution_count": null,
   "metadata": {},
   "outputs": [],
   "source": [
    "\n",
    "\n",
    "R1 = data['GILD'].pct_change()[1:]\n",
    "R2 = data['VXX'].pct_change()[1:]\n",
    "R3 = data['SPY'].pct_change()[1:]\n",
    "\n",
    "width = 0.25\n",
    "plt.bar(np.arange(len(R1))-width/2,R1,width,label='GILD',color='blue' )\n",
    "plt.bar(np.arange(len(R1))+width/2,R2,width,label='VXX',color='green')\n",
    "plt.bar(np.arange(len(R1))+width,R3,width,label='SPY',color='yellow')\n",
    "  \n",
    "plt.ylabel('Return')\n",
    "plt.title('MSFT Returns');\n",
    "plt.tight_layout()"
   ]
  },
  {
   "cell_type": "code",
   "execution_count": null,
   "metadata": {},
   "outputs": [],
   "source": [
    "\n",
    "R1 = data['GILD'][1:]\n",
    "R2 = data['VXX'][1:]\n",
    "\n",
    "plt.plot(R1/R2)\n",
    "plt.legend(['GILD', 'SPY']);\n",
    "plt.ylabel('Return')\n",
    "plt.title('MSFT Returns');"
   ]
  },
  {
   "cell_type": "code",
   "execution_count": null,
   "metadata": {},
   "outputs": [],
   "source": [
    "R1 = data['GILD'].pct_change()[1:]\n",
    "R2 = data['VXX'].pct_change()[1:]\n",
    "\n",
    "plt.bar(np.arange(len(R1)), 0.7*R1+0.3*R2)\n",
    "plt.bar(np.arange(len(R3)),R3,width,label='SPY',color='yellow')\n",
    "plt.legend(['My profolio', 'SPY']);\n",
    "plt.ylabel('Return')\n",
    "plt.title('MSFT Returns');"
   ]
  },
  {
   "cell_type": "code",
   "execution_count": null,
   "metadata": {},
   "outputs": [],
   "source": []
  },
  {
   "cell_type": "code",
   "execution_count": null,
   "metadata": {},
   "outputs": [],
   "source": []
  }
 ],
 "metadata": {
  "kernelspec": {
   "display_name": "Python 3.5",
   "language": "python",
   "name": "py35"
  },
  "language_info": {
   "codemirror_mode": {
    "name": "ipython",
    "version": 3
   },
   "file_extension": ".py",
   "mimetype": "text/x-python",
   "name": "python",
   "nbconvert_exporter": "python",
   "pygments_lexer": "ipython3",
   "version": "3.5.9"
  }
 },
 "nbformat": 4,
 "nbformat_minor": 2
}
