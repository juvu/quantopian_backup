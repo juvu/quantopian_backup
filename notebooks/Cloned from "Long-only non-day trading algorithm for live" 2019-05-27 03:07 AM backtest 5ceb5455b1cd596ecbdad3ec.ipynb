{
 "cells": [
  {
   "cell_type": "markdown",
   "metadata": {},
   "source": [
    "Run the cell below to create your tear sheet."
   ]
  },
  {
   "cell_type": "code",
   "execution_count": null,
   "metadata": {},
   "outputs": [],
   "source": [
    "bt = get_backtest('5ceb5455b1cd596ecbdad3ec')\n",
    "bt.create_full_tear_sheet()"
   ]
  }
 ],
 "metadata": {
  "from_backtest": "5ceb5455b1cd596ecbdad3ec"
 },
 "nbformat": 4,
 "nbformat_minor": 2
}
