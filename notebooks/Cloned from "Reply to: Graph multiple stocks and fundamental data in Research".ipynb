{
 "cells": [
  {
   "cell_type": "markdown",
   "metadata": {},
   "source": [
    "This notebook shows how to plot multiindexed data (like the pipeline output for multiple assets) in three different ways."
   ]
  },
  {
   "cell_type": "code",
   "execution_count": null,
   "metadata": {},
   "outputs": [],
   "source": [
    "import numpy as np\n",
    "import matplotlib.pyplot as plt\n",
    "from quantopian.pipeline import Pipeline, CustomFactor\n",
    "from quantopian.pipeline.data import Fundamentals\n",
    "from quantopian.research import run_pipeline\n",
    "\n",
    "from quantopian.pipeline.filters import StaticAssets\n",
    "from quantopian.research import symbols\n",
    "from quantopian.pipeline.data import USEquityPricing\n",
    "\n",
    "import matplotlib.pyplot as plt\n",
    "import pandas as pd"
   ]
  },
  {
   "cell_type": "code",
   "execution_count": null,
   "metadata": {},
   "outputs": [],
   "source": [
    "assets_screen = StaticAssets(symbols(['T', 'VZ']))\n",
    "fundamentals = {\n",
    "            'net_income': Fundamentals.net_income_continuous_operations.latest,\n",
    "            'operating_gains_losses': Fundamentals.operating_gains_losses.latest,\n",
    "            'operating_income': Fundamentals.operating_income.latest,\n",
    "            'operating_expenses': Fundamentals.operating_expense.latest\n",
    "    \n",
    "                }\n",
    "\n",
    "my_pipeline = Pipeline(columns=fundamentals, screen=assets_screen)\n",
    "data = run_pipeline(my_pipeline, '2002-1-01', '2018-6-27', 90)"
   ]
  },
  {
   "cell_type": "code",
   "execution_count": null,
   "metadata": {},
   "outputs": [],
   "source": [
    "data.head()"
   ]
  },
  {
   "cell_type": "markdown",
   "metadata": {},
   "source": [
    "## 1. Easy-to-understand example"
   ]
  },
  {
   "cell_type": "code",
   "execution_count": null,
   "metadata": {},
   "outputs": [],
   "source": [
    "# Slice dataframe to get values for each stock\n",
    "idx = pd.IndexSlice\n",
    "T_data = T_net_income = data.loc[idx[:, symbols('T')], :]\n",
    "VZ_data = VZ_net_income = data.loc[idx[:, symbols('VZ')], :]"
   ]
  },
  {
   "cell_type": "code",
   "execution_count": null,
   "metadata": {},
   "outputs": [],
   "source": [
    "T_data.head()"
   ]
  },
  {
   "cell_type": "code",
   "execution_count": null,
   "metadata": {},
   "outputs": [],
   "source": [
    "VZ_data.head()"
   ]
  },
  {
   "cell_type": "code",
   "execution_count": null,
   "metadata": {},
   "outputs": [],
   "source": [
    "# Construct our plot\n",
    "dates = data.index.levels[0] # x-coordinates\n",
    "plt.plot(dates, T_data['net_income'], label ='T net_income')\n",
    "plt.plot(dates, T_data['operating_expenses'], label='T operating_expenses')\n",
    "plt.plot(dates, T_data['operating_gains_losses'], label='T operating_gains_losses')\n",
    "plt.plot(dates, T_data['operating_income'], label='T operating_income')\n",
    "plt.plot(dates, VZ_data['net_income'], label='VZ net_income')\n",
    "plt.plot(dates, VZ_data['operating_expenses'], label='VZ operating_expenses')\n",
    "plt.plot(dates, VZ_data['operating_gains_losses'], label='VZ operating_gains_losses')\n",
    "plt.plot(dates, VZ_data['operating_income'], label='VZ operating_income')\n",
    "\n",
    "# Add labels\n",
    "plt.legend()\n",
    "plt.title('Historical T CashFlow (in billions)')\n",
    "plt.show()"
   ]
  },
  {
   "cell_type": "markdown",
   "metadata": {},
   "source": [
    "## 2. Similar idea, cleaner code"
   ]
  },
  {
   "cell_type": "code",
   "execution_count": null,
   "metadata": {},
   "outputs": [],
   "source": [
    "# This constructs the same plot, but using cleaner code\n",
    "columns = list(data.columns)\n",
    "dates = data.index.levels[0]\n",
    "\n",
    "plt.clf() # clears previous plot\n",
    "\n",
    "# Iterate through columns and plot each one\n",
    "for column in columns:\n",
    "    plt.plot(dates, T_data[column], label='T '+str(column))\n",
    "    plt.plot(dates, VZ_data[column], label='VZ '+str(column))\n",
    "    \n",
    "plt.legend()\n",
    "plt.title('Historical T CashFlow (in billions)')\n",
    "plt.show()"
   ]
  },
  {
   "cell_type": "markdown",
   "metadata": {},
   "source": [
    "## 3. Using QGrid"
   ]
  },
  {
   "cell_type": "code",
   "execution_count": null,
   "metadata": {},
   "outputs": [],
   "source": [
    "import qgrid\n",
    "\n",
    "# Get data in Qgrid\n",
    "qgrid_widget = qgrid.show_grid(data)\n",
    "qgrid_widget"
   ]
  },
  {
   "cell_type": "code",
   "execution_count": null,
   "metadata": {},
   "outputs": [],
   "source": [
    "# Filter the second index column to show only rows for T,\n",
    "# then save the changed dataframe\n",
    "T_data = qgrid_widget.get_changed_df()"
   ]
  },
  {
   "cell_type": "code",
   "execution_count": null,
   "metadata": {},
   "outputs": [],
   "source": [
    "# Filter the second index column to show only rows for VZ,\n",
    "# then save the changed dataframe\n",
    "VZ_data = qgrid_widget.get_changed_df()"
   ]
  },
  {
   "cell_type": "code",
   "execution_count": null,
   "metadata": {},
   "outputs": [],
   "source": [
    "T_data.head()"
   ]
  },
  {
   "cell_type": "code",
   "execution_count": null,
   "metadata": {},
   "outputs": [],
   "source": [
    "VZ_data.head()"
   ]
  },
  {
   "cell_type": "code",
   "execution_count": null,
   "metadata": {},
   "outputs": [],
   "source": [
    "# Now plot using the same code from above\n",
    "columns = list(data.columns)\n",
    "dates = data.index.levels[0]\n",
    "\n",
    "plt.clf() # clears previous plot\n",
    "\n",
    "# Iterate through columns and plot each one\n",
    "for column in columns:\n",
    "    plt.plot(dates, T_data[column], label='T '+str(column))\n",
    "    plt.plot(dates, VZ_data[column], label='VZ '+str(column))\n",
    "    \n",
    "plt.legend()\n",
    "plt.title('Historical T CashFlow (in billions)')\n",
    "plt.show()"
   ]
  },
  {
   "cell_type": "code",
   "execution_count": null,
   "metadata": {},
   "outputs": [],
   "source": []
  }
 ],
 "metadata": {
  "kernelspec": {
   "display_name": "Python 3.5",
   "language": "python",
   "name": "py35"
  },
  "language_info": {
   "codemirror_mode": {
    "name": "ipython",
    "version": 3
   },
   "file_extension": ".py",
   "mimetype": "text/x-python",
   "name": "python",
   "nbconvert_exporter": "python",
   "pygments_lexer": "ipython3",
   "version": "3.5.9"
  }
 },
 "nbformat": 4,
 "nbformat_minor": 2
}
