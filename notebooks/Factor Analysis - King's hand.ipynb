{
 "cells": [
  {
   "cell_type": "code",
   "execution_count": null,
   "metadata": {},
   "outputs": [],
   "source": [
    "# Import Pipeline\n",
    "from quantopian.pipeline import Pipeline\n",
    "from quantopian.research import run_pipeline\n",
    "\n",
    "# Import filter/screen\n",
    "from quantopian.pipeline.filters import QTradableStocksUS\n",
    "\n",
    "# Import data\n",
    "from quantopian.pipeline.data import USEquityPricing\n",
    "from quantopian.pipeline.data.factset import Fundamentals as ff\n",
    "from quantopian.pipeline.data.morningstar import Fundamentals as mf\n",
    "\n",
    "# Import classifier\n",
    "from quantopian.pipeline.classifiers.fundamentals import Sector\n",
    "\n",
    "# Import Alphalens\n",
    "from alphalens.utils import get_clean_factor_and_forward_returns\n",
    "from alphalens.tears import create_full_tear_sheet"
   ]
  },
  {
   "cell_type": "code",
   "execution_count": null,
   "metadata": {},
   "outputs": [],
   "source": [
    "# Constants\n",
    "start_date = '2007-1-1'\n",
    "end_date = '2020-5-20'\n",
    "\n",
    "factor_name = 'fcf_yld'\n",
    "\n",
    "sector_labels, sector_labels[-1] = dict(Sector.SECTOR_NAMES), \"Unknown\"\n",
    "\n",
    "group_neutral = True\n",
    "\n",
    "long_short = True"
   ]
  },
  {
   "cell_type": "code",
   "execution_count": null,
   "metadata": {},
   "outputs": [],
   "source": [
    "from quantopian.pipeline.factors import SimpleMovingAverage, AverageDollarVolume\n",
    "from quantopian.pipeline.data.builtin import USEquityPricing\n",
    "from quantopian.pipeline.filters.morningstar import IsPrimaryShare\n",
    "from quantopian.pipeline.data import morningstar\n",
    "\n",
    "# Create pipeline function\n",
    "def make_pipeline():\n",
    "    \n",
    "    # Get our primary data\n",
    "    \n",
    "    '''\n",
    "    sector = Sector()\n",
    "    \n",
    "    fcf = mf.free_cash_flow.latest\n",
    "    ev = mf.enterprise_value.latest\n",
    "    \n",
    "    # Calculate factor\n",
    "    \n",
    "    fcf_yld = fcf / ev\n",
    "    \n",
    "    #Create screens\n",
    "    \n",
    "    factor_screen = fcf_yld.notnull()\n",
    "    \n",
    "    sector_screen = sector.notnull()\n",
    "    \n",
    "    # Return pipeline\n",
    "    \n",
    "    return Pipeline(\n",
    "        columns={\n",
    "            factor_name: fcf_yld,\n",
    "            'sector': sector\n",
    "        },\n",
    "        screen=QTradableStocksUS() & factor_screen & sector_screen,\n",
    "    )\n",
    "    '''\n",
    "    \n",
    "    # Filter for primary share equities. IsPrimaryShare is a built-in filter.\n",
    "    primary_share = IsPrimaryShare()\n",
    " \n",
    "    # Equities listed as common stock (as opposed to, say, preferred stock).\n",
    "    # 'ST00000001' indicates common stock.\n",
    "    common_stock = morningstar.share_class_reference.security_type.latest.eq(\n",
    "        'ST00000001')\n",
    " \n",
    "    # Non-depositary receipts. Recall that the ~ operator inverts filters,\n",
    "    # turning Trues into Falses and vice versa\n",
    "    not_depositary = ~morningstar.share_class_reference.is_depositary_receipt.latest\n",
    " \n",
    "    # Equities not trading over-the-counter.\n",
    "    not_otc = ~morningstar.share_class_reference.exchange_id.latest.startswith(\n",
    "        'OTC')\n",
    " \n",
    "    # Not when-issued equities.\n",
    "    not_wi = ~morningstar.share_class_reference.symbol.latest.endswith('.WI')\n",
    " \n",
    "    # Equities without LP in their name, .matches does a match using a regular\n",
    "    # expression\n",
    "    not_lp_name = ~morningstar.company_reference.standard_name.latest.matches(\n",
    "        '.* L[. ]?P.?$')\n",
    " \n",
    "\n",
    "    # Equities whose most recent Morningstar market cap is not null have\n",
    "    # fundamental data and therefore are not ETFs.\n",
    "    have_market_cap = morningstar.valuation.market_cap.latest.notnull()\n",
    " \n",
    "    LowVar = 6\n",
    "    HighVar = 40\n",
    " \n",
    "    # Filter for stocks that pass all of our previous filters.\n",
    "    tradeable_stocks = (\n",
    "        primary_share\n",
    "        & common_stock\n",
    "        & not_depositary\n",
    "        & not_otc\n",
    "        & not_wi\n",
    "        & not_lp_name\n",
    "        & have_market_cap\n",
    "\n",
    "    )\n",
    "    ''' \n",
    "    base_universe = AverageDollarVolume(\n",
    "        window_length=20,\n",
    "        mask=tradeable_stocks\n",
    "    ).percentile_between(LowVar, HighVar)\n",
    "    '''\n",
    "    sector = Sector()\n",
    "    \n",
    "    ShortAvg = SimpleMovingAverage(\n",
    "        inputs=[USEquityPricing.close],\n",
    "        window_length=3, \n",
    "        mask=tradeable_stocks\n",
    "    )\n",
    " \n",
    "    # Long close price average.\n",
    "    LongAvg = SimpleMovingAverage(\n",
    "        inputs=[USEquityPricing.close],\n",
    "        window_length=45, \n",
    "        mask=tradeable_stocks\n",
    "    )\n",
    " \n",
    "    percent_difference = -(ShortAvg - LongAvg) / LongAvg\n",
    "    \n",
    "    factor_screen = percent_difference.notnull()\n",
    "    \n",
    "    sector_screen = sector.notnull()\n",
    "    \n",
    "    # Return pipeline\n",
    "    \n",
    "    return Pipeline(\n",
    "        columns={\n",
    "            factor_name: percent_difference,\n",
    "            'sector': sector\n",
    "        },\n",
    "        screen=QTradableStocksUS() & factor_screen & sector_screen,\n",
    "    )\n",
    "\n"
   ]
  },
  {
   "cell_type": "code",
   "execution_count": null,
   "metadata": {},
   "outputs": [],
   "source": [
    "# Get factor data from pipeline\n",
    "factor_data = run_pipeline(make_pipeline(), start_date, end_date)"
   ]
  },
  {
   "cell_type": "code",
   "execution_count": null,
   "metadata": {},
   "outputs": [],
   "source": [
    "factor_data.head()"
   ]
  },
  {
   "cell_type": "code",
   "execution_count": null,
   "metadata": {},
   "outputs": [],
   "source": [
    "# Get pricing data\n",
    "pricing_data = get_pricing(factor_data.index.levels[1], start_date, end_date, fields='open_price')"
   ]
  },
  {
   "cell_type": "code",
   "execution_count": null,
   "metadata": {},
   "outputs": [],
   "source": [
    "pricing_data.head()"
   ]
  },
  {
   "cell_type": "code",
   "execution_count": null,
   "metadata": {},
   "outputs": [],
   "source": [
    "# Get factor and returns data\n",
    "merged_data = get_clean_factor_and_forward_returns(\n",
    "    factor=factor_data[factor_name],\n",
    "    prices=pricing_data,\n",
    "    periods=(1,5,10),\n",
    "    quantiles=5,\n",
    "    groupby=factor_data['sector'],\n",
    "    groupby_labels = sector_labels,\n",
    "    binning_by_group = group_neutral,\n",
    ")"
   ]
  },
  {
   "cell_type": "code",
   "execution_count": null,
   "metadata": {},
   "outputs": [],
   "source": [
    "merged_data.tail()"
   ]
  },
  {
   "cell_type": "code",
   "execution_count": null,
   "metadata": {},
   "outputs": [],
   "source": [
    "# Create tear-sheet to analyse\n",
    "create_full_tear_sheet(merged_data, long_short=long_short, by_group=True, group_neutral=group_neutral)"
   ]
  },
  {
   "cell_type": "code",
   "execution_count": null,
   "metadata": {},
   "outputs": [],
   "source": [
    "1+1"
   ]
  },
  {
   "cell_type": "code",
   "execution_count": null,
   "metadata": {},
   "outputs": [],
   "source": []
  }
 ],
 "metadata": {
  "kernelspec": {
   "display_name": "Python 3.5",
   "language": "python",
   "name": "py35"
  },
  "language_info": {
   "codemirror_mode": {
    "name": "ipython",
    "version": 3
   },
   "file_extension": ".py",
   "mimetype": "text/x-python",
   "name": "python",
   "nbconvert_exporter": "python",
   "pygments_lexer": "ipython3",
   "version": "3.5.9"
  }
 },
 "nbformat": 4,
 "nbformat_minor": 2
}
