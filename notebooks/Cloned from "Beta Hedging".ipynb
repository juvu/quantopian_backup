{
 "cells": [
  {
   "cell_type": "markdown",
   "metadata": {},
   "source": [
    "#Beta Hedging\n",
    "By Evgenia \"Jenny\" Nitishinskaya and Delaney Granizo-Mackenzie with example algorithms by David Edwards\n",
    "\n",
    "Part of the Quantopian Lecture Series:\n",
    "\n",
    "* [www.quantopian.com/lectures](https://www.quantopian.com/lectures)\n",
    "* [github.com/quantopian/research_public](https://github.com/quantopian/research_public)\n",
    "\n",
    "\n",
    "---\n",
    "\n",
    "##Factor Models\n",
    "\n",
    "Factor models are a way of explaining the returns of one asset via a linear combination of the returns of other assets. The general form of a factor model is\n",
    "\n",
    "$$Y = \\alpha + \\beta_1 X_1 + \\beta_2 X_2 + \\dots + \\beta_n X_n$$\n",
    "\n",
    "This looks familiar, as it is exactly the model type that a linear regression fits. The $X$'s can also be indicators rather than assets. An example might be a analyst estimation.\n",
    "\n",
    "##What is Beta?\n",
    "\n",
    "An asset's beta to another asset is just the $\\beta$ from the above model. For instance, if we regressed TSLA against the S&P 500 using the model $Y_{TSLA} = \\alpha + \\beta X$, then TSLA's beta exposure to the S&P 500 would be that beta. If we used the model $Y_{TSLA} = \\alpha + \\beta X_{SPY} + \\beta X_{AAPL}$, then we now have two betas, one is TSLA's exposure to the S&P 500 and one is TSLA's exposure to AAPL.\n",
    "\n",
    "Often \"beta\" will refer to a stock's beta exposure to the S&P 500. We will use it to mean that unless otherwise specified."
   ]
  },
  {
   "cell_type": "code",
   "execution_count": null,
   "metadata": {},
   "outputs": [],
   "source": [
    "# Import libraries\n",
    "import numpy as np\n",
    "from statsmodels import regression\n",
    "import statsmodels.api as sm\n",
    "import matplotlib.pyplot as plt\n",
    "import math"
   ]
  },
  {
   "cell_type": "code",
   "execution_count": null,
   "metadata": {},
   "outputs": [],
   "source": [
    "# Get data for the specified period and stocks\n",
    "start = '2014-01-01'\n",
    "end = '2015-01-01'\n",
    "asset = get_pricing('TSLA', fields='price', start_date=start, end_date=end)\n",
    "benchmark = get_pricing('SPY', fields='price', start_date=start, end_date=end)\n",
    "\n",
    "# We have to take the percent changes to get to returns\n",
    "# Get rid of the first (0th) element because it is NAN\n",
    "r_a = asset.pct_change()[1:]\n",
    "r_b = benchmark.pct_change()[1:]\n",
    "\n",
    "# Let's plot them just for fun\n",
    "r_a.plot()\n",
    "r_b.plot()\n",
    "plt.ylabel(\"Daily Return\")\n",
    "plt.legend();"
   ]
  },
  {
   "cell_type": "markdown",
   "metadata": {},
   "source": [
    "Now we can perform the regression to find $\\alpha$ and $\\beta$:"
   ]
  },
  {
   "cell_type": "code",
   "execution_count": null,
   "metadata": {},
   "outputs": [],
   "source": [
    "# Let's define everything in familiar regression terms\n",
    "X = r_b.values # Get just the values, ignore the timestamps\n",
    "Y = r_a.values\n",
    "\n",
    "def linreg(x,y):\n",
    "    # We add a constant so that we can also fit an intercept (alpha) to the model\n",
    "    # This just adds a column of 1s to our data\n",
    "    x = sm.add_constant(x)\n",
    "    model = regression.linear_model.OLS(y,x).fit()\n",
    "    # Remove the constant now that we're done\n",
    "    x = x[:, 1]\n",
    "    return model.params[0], model.params[1]\n",
    "\n",
    "alpha, beta = linreg(X,Y)\n",
    "print 'alpha: ' + str(alpha)\n",
    "print 'beta: ' + str(beta)"
   ]
  },
  {
   "cell_type": "markdown",
   "metadata": {},
   "source": [
    "If we plot the line $\\alpha + \\beta X$, we can see that it does indeed look like the line of best fit:"
   ]
  },
  {
   "cell_type": "code",
   "execution_count": null,
   "metadata": {},
   "outputs": [],
   "source": [
    "X2 = np.linspace(X.min(), X.max(), 100)\n",
    "Y_hat = X2 * beta + alpha\n",
    "\n",
    "plt.scatter(X, Y, alpha=0.3) # Plot the raw data\n",
    "plt.xlabel(\"SPY Daily Return\")\n",
    "plt.ylabel(\"TSLA Daily Return\")\n",
    "\n",
    " # Add the regression line, colored in red\n",
    "plt.plot(X2, Y_hat, 'r', alpha=0.9);"
   ]
  },
  {
   "cell_type": "markdown",
   "metadata": {},
   "source": [
    "##Risk Exposure\n",
    "\n",
    "More generally, this beta gets at the concept of how much risk exposure you take on by holding an asset. If an asset has a high beta exposure to the S&P 500, then while it will do very well while the market is rising, it will do very poorly when the market falls. A high beta corresponds to high speculative risk. You are taking out a more volatile bet.\n",
    "\n",
    "At Quantopian, we value stratgies that have negligible beta exposure to as many factors as possible. What this means is that all of the returns in a strategy lie in the $\\alpha$ portion of the model, and are independent of other factors. This is highly desirable, as it means that the strategy is agnostic to market conditions. It will make money equally well in a crash as it will during a bull market. These strategies are the most attractive to individuals with huge cash pools such as endowments and soverign wealth funds.\n",
    "\n",
    "##Risk Management\n",
    "\n",
    "The process of reducing exposure to other factors is known as risk management. Hedging is one of the best ways to perform risk management in practice.\n",
    "\n",
    "###Hedging\n",
    "\n",
    "If we determine that our portfolio's returns are dependent on the market via this relation\n",
    "\n",
    "$$Y_{portfolio} = \\alpha + \\beta X_{SPY}$$\n",
    "\n",
    "then we can take out a short position in SPY to try to cancel out this risk. The amount we take out is $-\\beta V$ where $V$ is the total value of our portfolio. This works because if our returns are approximated by $\\alpha + \\beta X_{SPY}$, then adding a short in SPY will make our new returns be $\\alpha + \\beta X_{SPY} - \\beta X_{SPY} = \\alpha$. Our returns are now purely alpha, which is independent of SPY and will suffer no risk exposure to the market.\n",
    "\n",
    "###Market Neutral\n",
    "\n",
    "When a stragy exhibits a consistent beta of 0, we say that this strategy is market neutral.\n",
    "\n",
    "###Problems with Estimation\n",
    "\n",
    "The problem here is that the beta we estimated is not necessarily going to stay the same as we walk forward in time. As such the amount of short we took out in the SPY may not perfectly hedge our portfolio, and in practice it is quite difficult to reduce beta by a significant amount.\n",
    "\n",
    "We will talk more about problems with estimating parameters in future lectures. In short, each estimate has a stardard error that corresponds with how stable the estimate is within the observed data."
   ]
  },
  {
   "cell_type": "markdown",
   "metadata": {},
   "source": [
    "# Implementing hedging\n",
    "\n",
    "Now that we know how much to hedge, let's see how it affects our returns. We will build our portfolio using the asset and the benchmark, weighing the benchmark by $-\\beta$ (negative since we are short in it)."
   ]
  },
  {
   "cell_type": "code",
   "execution_count": null,
   "metadata": {},
   "outputs": [],
   "source": [
    "# Construct a portfolio with beta hedging\n",
    "portfolio = -1*beta*r_b + r_a\n",
    "portfolio.name = \"TSLA + Hedge\"\n",
    "\n",
    "# Plot the returns of the portfolio as well as the asset by itself\n",
    "portfolio.plot(alpha=0.9)\n",
    "r_b.plot(alpha=0.5);\n",
    "r_a.plot(alpha=0.5);\n",
    "plt.ylabel(\"Daily Return\")\n",
    "plt.legend();"
   ]
  },
  {
   "cell_type": "markdown",
   "metadata": {},
   "source": [
    "It looks like the portfolio return follows the asset alone fairly closely. We can quantify the difference in their performances by computing the mean returns and the volatilities (standard deviations of returns) for both:"
   ]
  },
  {
   "cell_type": "code",
   "execution_count": null,
   "metadata": {},
   "outputs": [],
   "source": [
    "print \"means: \", portfolio.mean(), r_a.mean()\n",
    "print \"volatilities: \", portfolio.std(), r_a.std()"
   ]
  },
  {
   "cell_type": "markdown",
   "metadata": {},
   "source": [
    "We've decreased volatility at the expense of some returns. Let's check that the alpha is the same as before, while the beta has been eliminated:"
   ]
  },
  {
   "cell_type": "code",
   "execution_count": null,
   "metadata": {},
   "outputs": [],
   "source": [
    "P = portfolio.values\n",
    "alpha, beta = linreg(X,P)\n",
    "print 'alpha: ' + str(alpha)\n",
    "print 'beta: ' + str(beta)"
   ]
  },
  {
   "cell_type": "markdown",
   "metadata": {},
   "source": [
    "Note that we developed our hedging strategy using historical data. We can check that it is still valid out of sample by checking the alpha and beta values of the asset and the hedged portfolio in a different time frame:"
   ]
  },
  {
   "cell_type": "code",
   "execution_count": null,
   "metadata": {},
   "outputs": [],
   "source": [
    "# Get the alpha and beta estimates over the last year\n",
    "start = '2014-01-01'\n",
    "end = '2015-01-01'\n",
    "asset = get_pricing('TSLA', fields='price', start_date=start, end_date=end)\n",
    "benchmark = get_pricing('SPY', fields='price', start_date=start, end_date=end)\n",
    "r_a = asset.pct_change()[1:]\n",
    "r_b = benchmark.pct_change()[1:]\n",
    "X = r_b.values\n",
    "Y = r_a.values\n",
    "historical_alpha, historical_beta = linreg(X,Y)\n",
    "print 'Asset Historical Estimate:'\n",
    "print 'alpha: ' + str(historical_alpha)\n",
    "print 'beta: ' + str(historical_beta)\n",
    "\n",
    "# Get data for a different time frame:\n",
    "start = '2015-01-01'\n",
    "end = '2015-06-01'\n",
    "asset = get_pricing('TSLA', fields='price', start_date=start, end_date=end)\n",
    "benchmark = get_pricing('SPY', fields='price', start_date=start, end_date=end)\n",
    "\n",
    "# Repeat the process from before to compute alpha and beta for the asset\n",
    "r_a = asset.pct_change()[1:]\n",
    "r_b = benchmark.pct_change()[1:]\n",
    "X = r_b.values\n",
    "Y = r_a.values\n",
    "alpha, beta = linreg(X,Y)\n",
    "print 'Asset Out of Sample Estimate:'\n",
    "print 'alpha: ' + str(alpha)\n",
    "print 'beta: ' + str(beta)\n",
    "\n",
    "# Create hedged portfolio and compute alpha and beta\n",
    "portfolio = -1*historical_beta*r_b + r_a\n",
    "P = portfolio.values\n",
    "alpha, beta = linreg(X,P)\n",
    "print 'Portfolio Out of Sample:'\n",
    "print 'alpha: ' + str(alpha)\n",
    "print 'beta: ' + str(beta)\n",
    "\n",
    "\n",
    "# Plot the returns of the portfolio as well as the asset by itself\n",
    "portfolio.name = \"TSLA + Hedge\"\n",
    "portfolio.plot(alpha=0.9)\n",
    "r_a.plot(alpha=0.5);\n",
    "r_b.plot(alpha=0.5)\n",
    "plt.ylabel(\"Daily Return\")\n",
    "plt.legend();"
   ]
  },
  {
   "cell_type": "markdown",
   "metadata": {},
   "source": [
    "As we can see, the beta estimate changes a good deal when we look at the out of sample estimate. The beta that we computed over our historical data doesn't do a great job at reducing the beta of our portfolio, but does manage to reduce the magnitude by about 1/2."
   ]
  },
  {
   "cell_type": "markdown",
   "metadata": {},
   "source": [
    "##The alpha/beta Tradeoff\n",
    "\n",
    "Hedging against a benchmark such as the market will indeed reduce your returns while the market is not doing poorly. This is, however, completely fine. If your algorithm is less volatile, you will be able to take out leverage on your strategy and multiply your returns back up to their original amount. Even better, your returns will be far more stable than the original volatile beta exposed strategy.\n",
    "\n",
    "By and large, even though high-beta strategies tend to be deceptively attractive due to their extremely good returns during periods of market growth, they fail in the long term as they will suffer extreme losses during a downturn."
   ]
  },
  {
   "cell_type": "markdown",
   "metadata": {},
   "source": [
    "#Other types of hedging\n",
    "\n",
    "Although we will not execute them here, there are strategies for hedging that may be better suited for other investment approaches.\n",
    "\n",
    "##Pairs Trading\n",
    "\n",
    "One is pairs trading, in which a second asset is used in place of the benchmark here. This would allow you, for instance, to cancel out the volatility in an industry by being long in the stock of one company and short in the stock of another company in the same industry.\n",
    "\n",
    "[www.quantopian.com/lectures](https://www.quantopian.com/lectures)\n",
    "\n",
    "##Long Short Equity\n",
    "\n",
    "In this case we define a ranking over a group of $n$ equities, then long the top $p\\%$ and short the bottom $p\\%$ in equal dollar volume. This has the advantage of being implicitly, versus explicitly, hedged when $n$ is large. To see why this is the case, imagine buying a set of 100 securities randomly. The chance that the market exposure beta of these 100 is far from 1.0 is very low, as we have taken a large sample of the market. Similarly, when we rank by some independent metric and buy the top 100, the chance that we select securities whose overall beta is far from 1.0 is low. So in selecting 100 long and 100 short, the strategy beta should be very close to 1 - 1 = 0. Obviously some ranking systems will introduce a sample bias and break this assumption, for example ranking by the estimated beta of the equity.\n",
    "\n",
    "Another advantage of long short equity strategies is that you are making a bet on the ranking, or in other words the differential in performance between the top and bottom ranked equities. This means that you don't have to even worry about the alpha/beta tradeoff encountered in hedging."
   ]
  },
  {
   "cell_type": "markdown",
   "metadata": {},
   "source": [
    "*This presentation is for informational purposes only and does not constitute an offer to sell, a solicitation to buy, or a recommendation for any security; nor does it constitute an offer to provide investment advisory or other services by Quantopian, Inc. (\"Quantopian\"). Nothing contained herein constitutes investment advice or offers any opinion with respect to the suitability of any security, and any views expressed herein should not be taken as advice to buy, sell, or hold any security or as an endorsement of any security or company.  In preparing the information contained herein, Quantopian, Inc. has not taken into account the investment needs, objectives, and financial circumstances of any particular investor. Any views expressed and data illustrated herein were prepared based upon information, believed to be reliable, available to Quantopian, Inc. at the time of publication. Quantopian makes no guarantees as to their accuracy or completeness. All information is subject to change and may quickly become unreliable for various reasons, including changes in market conditions or economic circumstances.*"
   ]
  }
 ],
 "metadata": {
  "kernelspec": {
   "display_name": "Python 2",
   "language": "python",
   "name": "python2"
  },
  "language_info": {
   "codemirror_mode": {
    "name": "ipython",
    "version": 2
   },
   "file_extension": ".py",
   "mimetype": "text/x-python",
   "name": "python",
   "nbconvert_exporter": "python",
   "pygments_lexer": "ipython2",
   "version": "2.7.12"
  }
 },
 "nbformat": 4,
 "nbformat_minor": 1
}
